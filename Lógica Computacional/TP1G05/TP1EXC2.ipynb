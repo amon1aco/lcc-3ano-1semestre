{
 "cells": [
  {
   "attachments": {},
   "cell_type": "markdown",
   "metadata": {},
   "source": [
    "# Sistema de tráfego\n",
    "\n",
    "Grupo 05\n",
    "\n",
    "    Eduardo André Silva Cunha\n",
    "    Gonçalo Emanuel Ferreira Magalhães A100084"
   ]
  },
  {
   "attachments": {},
   "cell_type": "markdown",
   "metadata": {},
   "source": [
    "# Problema \n",
    "\n",
    "1. Um sistema de tráfego  é representado por um grafo orientado ligado. Os nodos denotam pontos de acesso e  os arcos denotam vias de comunicação só com um sentido .  O grafo tem de ser ligado: entre cada par de nodos $\\langle n_1,n_2 \\rangle$ tem de existir um caminho $n_1 \\leadsto n_2$ e um caminho $n_2\\leadsto n_1$.\n",
    "    1. Gerar aleatoriamente o grafo com  $N \\in\\{8..15\\}$  nodos e com ramos verificando:\n",
    "        1. Cada nodo tem um número aleatório de descendentes $d\\in\\{0 .. 3\\}\\,$ cujos destinos são também gerados aleatoriamente. \n",
    "        2. Se  existirem “loops”  ou destinos repetidos, deve-se gerar outro grafo.\n",
    "    2. Pretende-se fazer  manutenção interrompendo  determinadas vias. Determinar o maior número de vias que é possível remover mantendo o grafo ligado."
   ]
  },
  {
   "cell_type": "markdown",
   "metadata": {},
   "source": [
    "### Import\n",
    "Imports usados"
   ]
  },
  {
   "cell_type": "code",
   "execution_count": 3,
   "metadata": {},
   "outputs": [],
   "source": [
    "from ortools.linear_solver import pywraplp\n",
    "import networkx as nx\n",
    "import random\n",
    "import copy"
   ]
  },
  {
   "cell_type": "markdown",
   "metadata": {},
   "source": [
    "### Criação do grafo:\n",
    "Inicialmente estavamos a trabalhar apenas com grafos sob a forma de dicionário mas após a aula prática de quarta feira decidimos alterar isso."
   ]
  },
  {
   "cell_type": "code",
   "execution_count": 5,
   "metadata": {},
   "outputs": [
    {
     "name": "stdout",
     "output_type": "stream",
     "text": [
      "Grafo gerado:\n",
      "{0: [2, 6], 1: [6], 2: [0, 4, 9], 3: [5], 4: [2, 9, 7], 5: [9, 3, 8], 6: [1, 0], 7: [4, 8], 8: [7, 5], 9: [2, 4, 5]}\n"
     ]
    }
   ],
   "source": [
    "def cria_grafo():\n",
    "    while True:\n",
    "        nr_nodos = random.randint(8, 15)\n",
    "        grafo_dict = {}\n",
    "\n",
    "        # Inicializar grafo como um dicionário de listas\n",
    "        for i in range(0, nr_nodos):\n",
    "            grafo_dict[i] = []\n",
    "\n",
    "        # Criar grafo aleatório\n",
    "        for i in range(0, nr_nodos-1):\n",
    "            nr_saidas = random.randint(0, 3)\n",
    "            for j in range(nr_saidas):\n",
    "                destino = random.randint(0, nr_nodos-1)\n",
    "                if destino != i:\n",
    "                    grafo_dict[i].append(destino)\n",
    "\n",
    "        grafo_nx = nx.Graph(grafo_dict) # Converter o grafo de dicionário de listas para NetworkX\n",
    "\n",
    "        if nx.is_connected(grafo_nx) and grafo_valido(grafo_nx): # Verifica se o grafo é conectado e valido conforme o enunciado\n",
    "            return grafo_nx\n",
    "        \n",
    "def grafo_valido(grafo):\n",
    "    num_nodes = len(grafo)\n",
    "    if num_nodes < 8 or num_nodes > 15: # Verifica o número de nós (8 a 15 nodos)\n",
    "        return False\n",
    "\n",
    "    for node in grafo.nodes():\n",
    "        if len(list(grafo.neighbors(node))) > 3: # Verifica se cada nó tem no máximo 3 destinos\n",
    "            return False\n",
    "\n",
    "    for edge in grafo.edges(): # Verifica se não há loops (arestas de um nó para ele mesmo)\n",
    "        if edge[0] == edge[1]:\n",
    "            return False\n",
    "\n",
    "    # Se todas as verificações passaram, o grafo é válido\n",
    "    return True\n",
    "\n",
    "\n",
    "grafo = cria_grafo() \n",
    "# Impressão do grafo inicial:\n",
    "grafo_inicial = nx.to_dict_of_lists(grafo) \n",
    "print(\"Grafo gerado:\")\n",
    "print(grafo_inicial)"
   ]
  },
  {
   "cell_type": "markdown",
   "metadata": {},
   "source": [
    "### Resolução do problema\n",
    "Inicialmente tentamos resolver este problema com o uso de um solver \"SCIP\" criando uma variavel X que a cada par de arestas correspondia um valor 0 ou 1 que representava se a aresta seria removida ou não, respetivamente."
   ]
  },
  {
   "cell_type": "code",
   "execution_count": 63,
   "metadata": {},
   "outputs": [],
   "source": [
    "# Inicialização do solver:\n",
    "solver = pywraplp.Solver.CreateSolver('SCIP')\n",
    "\n",
    "# Variáveis de decisão: x[a] == 1 se a aresta 'a' for removida, 0 caso contrário.\n",
    "x = {}\n",
    "for edge in grafo_inicial.keys():\n",
    "    for neighbor in grafo_inicial[edge]:\n",
    "        if (edge, neighbor) in grafo.edges:\n",
    "            x[(edge, neighbor)] = solver.IntVar(0, 1, f'x[{edge},{neighbor}]')"
   ]
  },
  {
   "attachments": {},
   "cell_type": "markdown",
   "metadata": {},
   "source": [
    "### Restrição\n",
    "1. Manter o grafo conectado \n",
    "Potencialmente incorreto, a nossa ideia era garantir que entre cada 2 nodos com ligação inical essa ligação mantinha-se, mas não se verifica..."
   ]
  },
  {
   "cell_type": "code",
   "execution_count": 64,
   "metadata": {},
   "outputs": [],
   "source": [
    "for node in grafo_inicial.keys():\n",
    "    for neighbor in grafo_inicial[node]:\n",
    "        if (node, neighbor) in x:\n",
    "            solver.Add(x[(node, neighbor)] + x[(neighbor, node)] >= 1)"
   ]
  },
  {
   "attachments": {},
   "cell_type": "markdown",
   "metadata": {},
   "source": [
    "### Objetivo\n",
    "1. Maximizar o numero de arestas removidas, ou seja neste caso, maximizar o numero de valores iguais a 1 na variavel \"X\""
   ]
  },
  {
   "cell_type": "code",
   "execution_count": 65,
   "metadata": {},
   "outputs": [],
   "source": [
    "objective = solver.Objective()\n",
    "for edge in grafo_inicial.keys():\n",
    "    for neighbor in grafo_inicial[edge]:\n",
    "        if (edge, neighbor) in x:\n",
    "            objective.SetCoefficient(x[(edge, neighbor)], 1)  # Coeficiente 1 para todas as variáveis x\n",
    "\n",
    "objective.SetMaximization()"
   ]
  },
  {
   "attachments": {},
   "cell_type": "markdown",
   "metadata": {},
   "source": [
    "### Impressão do grafo final"
   ]
  },
  {
   "cell_type": "code",
   "execution_count": 66,
   "metadata": {},
   "outputs": [
    {
     "name": "stdout",
     "output_type": "stream",
     "text": [
      "Grafo resultante como dicionário de listas:\n",
      "{0: [], 1: [], 2: [], 3: [], 4: [], 5: [], 6: [], 7: []}\n"
     ]
    }
   ],
   "source": [
    "solver.Solve()\n",
    "\n",
    "# Arestas removidas\n",
    "removed_edges = [(edge[0], edge[1]) for edge in x if x[edge].solution_value() == 1]\n",
    "\n",
    "# Criar o novo grafo resultante após a remoção das arestas\n",
    "grafo_resultante = grafo.copy()\n",
    "grafo_resultante.remove_edges_from(removed_edges)\n",
    "\n",
    "# Imprimir o grafo resultante como dicionário de listas\n",
    "dict_of_lists = nx.to_dict_of_lists(grafo_resultante)\n",
    "print(\"Grafo resultante como dicionário de listas:\")\n",
    "print(dict_of_lists)"
   ]
  },
  {
   "attachments": {},
   "cell_type": "markdown",
   "metadata": {},
   "source": [
    "# Nova Resolução:\n",
    "Através da utilização do Solver \"SCIP\", não conseguimos implementar uma restrição que garantisse que o grafo final permanecesse conectado, então após a aula de quarta-feira(27/9), onde nos foi apresentado a biblioteca \"nx\" decidimos resolver o problema utilizando funções da biblioteca \"nx\". \n",
    "\n",
    "Todo o código de criação do grafo foi mantido.\n",
    "    "
   ]
  },
  {
   "cell_type": "code",
   "execution_count": 6,
   "metadata": {},
   "outputs": [
    {
     "name": "stdout",
     "output_type": "stream",
     "text": [
      "Grafo gerado:\n",
      "{0: [8, 1, 3], 1: [0, 2, 5], 2: [1, 5], 3: [4, 0, 5], 4: [3, 6, 7], 5: [2, 1, 3], 6: [4], 7: [4], 8: [0]}\n"
     ]
    }
   ],
   "source": [
    "grafo = cria_grafo()\n",
    "grafo_inicial = nx.to_dict_of_lists(grafo)\n",
    "print(\"Grafo gerado:\")\n",
    "print(grafo_inicial)"
   ]
  },
  {
   "attachments": {},
   "cell_type": "markdown",
   "metadata": {},
   "source": [
    "Usamos a função pré-definida para encontrar a árvore geradora mínima."
   ]
  },
  {
   "cell_type": "code",
   "execution_count": 7,
   "metadata": {},
   "outputs": [],
   "source": [
    "minimum_spanning_tree = nx.minimum_spanning_tree(grafo)"
   ]
  },
  {
   "attachments": {},
   "cell_type": "markdown",
   "metadata": {},
   "source": [
    "Guardamos em arestas_removidas todas as arestas que não são necessárias para a árvore geradora mínima."
   ]
  },
  {
   "cell_type": "code",
   "execution_count": 8,
   "metadata": {},
   "outputs": [],
   "source": [
    "arestas_removidas = [edge for edge in grafo.edges() if edge not in minimum_spanning_tree.edges()]"
   ]
  },
  {
   "attachments": {},
   "cell_type": "markdown",
   "metadata": {},
   "source": [
    "Remoção das arestas desnecessárias no grafo"
   ]
  },
  {
   "cell_type": "code",
   "execution_count": 9,
   "metadata": {},
   "outputs": [],
   "source": [
    "grafo_modificado = grafo.copy()\n",
    "grafo_modificado.remove_edges_from(arestas_removidas)"
   ]
  },
  {
   "attachments": {},
   "cell_type": "markdown",
   "metadata": {},
   "source": [
    "Conversão do grafo modificado de volta para o formato de dicionária de listas."
   ]
  },
  {
   "cell_type": "code",
   "execution_count": 10,
   "metadata": {},
   "outputs": [],
   "source": [
    "grafo_modificado_dict = nx.to_dict_of_lists(grafo_modificado)"
   ]
  },
  {
   "attachments": {},
   "cell_type": "markdown",
   "metadata": {},
   "source": [
    "### Prints dos resultados obtidos"
   ]
  },
  {
   "cell_type": "code",
   "execution_count": 11,
   "metadata": {},
   "outputs": [
    {
     "name": "stdout",
     "output_type": "stream",
     "text": [
      "Arestas Removidas:\n",
      "[(2, 5), (3, 5)]\n",
      "Grafo modificado:\n",
      "{0: [8, 1, 3], 1: [0, 2, 5], 2: [1], 3: [0, 4], 4: [3, 6, 7], 5: [1], 6: [4], 7: [4], 8: [0]}\n"
     ]
    }
   ],
   "source": [
    "print(\"Arestas Removidas:\")\n",
    "print(arestas_removidas)\n",
    "\n",
    "print(\"Grafo modificado:\")\n",
    "print(grafo_modificado_dict)"
   ]
  },
  {
   "cell_type": "markdown",
   "metadata": {},
   "source": [
    "### Impressão do desenho do grafo"
   ]
  },
  {
   "cell_type": "code",
   "execution_count": 13,
   "metadata": {},
   "outputs": [
    {
     "ename": "ModuleNotFoundError",
     "evalue": "No module named 'matplotlib'",
     "output_type": "error",
     "traceback": [
      "\u001b[1;31m---------------------------------------------------------------------------\u001b[0m",
      "\u001b[1;31mModuleNotFoundError\u001b[0m                       Traceback (most recent call last)",
      "\u001b[1;32mc:\\Users\\eduar\\OneDrive\\Ambiente de Trabalho\\TP1EXC2.ipynb Cell 28\u001b[0m line \u001b[0;36m1\n\u001b[1;32m----> <a href='vscode-notebook-cell:/c%3A/Users/eduar/OneDrive/Ambiente%20de%20Trabalho/TP1EXC2.ipynb#X36sZmlsZQ%3D%3D?line=0'>1</a>\u001b[0m nx\u001b[39m.\u001b[39;49mdraw(grafo_modificado,pos\u001b[39m=\u001b[39;49mnx\u001b[39m.\u001b[39;49mplanar_layout(grafo_modificado),with_labels\u001b[39m=\u001b[39;49m\u001b[39mTrue\u001b[39;49;00m,node_size\u001b[39m=\u001b[39;49m\u001b[39m1000\u001b[39;49m)\n",
      "File \u001b[1;32mc:\\Users\\eduar\\anaconda3\\envs\\logica\\lib\\site-packages\\networkx\\drawing\\nx_pylab.py:105\u001b[0m, in \u001b[0;36mdraw\u001b[1;34m(G, pos, ax, **kwds)\u001b[0m\n\u001b[0;32m     49\u001b[0m \u001b[39mdef\u001b[39;00m \u001b[39mdraw\u001b[39m(G, pos\u001b[39m=\u001b[39m\u001b[39mNone\u001b[39;00m, ax\u001b[39m=\u001b[39m\u001b[39mNone\u001b[39;00m, \u001b[39m*\u001b[39m\u001b[39m*\u001b[39mkwds):\n\u001b[0;32m     50\u001b[0m \u001b[39m    \u001b[39m\u001b[39m\"\"\"Draw the graph G with Matplotlib.\u001b[39;00m\n\u001b[0;32m     51\u001b[0m \n\u001b[0;32m     52\u001b[0m \u001b[39m    Draw the graph as a simple representation with no node\u001b[39;00m\n\u001b[1;32m   (...)\u001b[0m\n\u001b[0;32m    103\u001b[0m \u001b[39m    https://networkx.org/documentation/latest/auto_examples/index.html\u001b[39;00m\n\u001b[0;32m    104\u001b[0m \u001b[39m    \"\"\"\u001b[39;00m\n\u001b[1;32m--> 105\u001b[0m     \u001b[39mimport\u001b[39;00m \u001b[39mmatplotlib\u001b[39;00m\u001b[39m.\u001b[39;00m\u001b[39mpyplot\u001b[39;00m \u001b[39mas\u001b[39;00m \u001b[39mplt\u001b[39;00m\n\u001b[0;32m    107\u001b[0m     \u001b[39mif\u001b[39;00m ax \u001b[39mis\u001b[39;00m \u001b[39mNone\u001b[39;00m:\n\u001b[0;32m    108\u001b[0m         cf \u001b[39m=\u001b[39m plt\u001b[39m.\u001b[39mgcf()\n",
      "\u001b[1;31mModuleNotFoundError\u001b[0m: No module named 'matplotlib'"
     ]
    }
   ],
   "source": [
    "nx.draw(grafo_modificado,pos=nx.planar_layout(grafo_modificado),with_labels=True,node_size=1000)"
   ]
  }
 ],
 "metadata": {
  "kernelspec": {
   "display_name": "base",
   "language": "python",
   "name": "python3"
  },
  "language_info": {
   "codemirror_mode": {
    "name": "ipython",
    "version": 3
   },
   "file_extension": ".py",
   "mimetype": "text/x-python",
   "name": "python",
   "nbconvert_exporter": "python",
   "pygments_lexer": "ipython3",
   "version": "3.10.13"
  },
  "orig_nbformat": 4,
  "vscode": {
   "interpreter": {
    "hash": "fcadef901af50e7e326a3e337d5c4203c49bef07d424e82f5d3a6ff2e200d5cb"
   }
  }
 },
 "nbformat": 4,
 "nbformat_minor": 2
}
