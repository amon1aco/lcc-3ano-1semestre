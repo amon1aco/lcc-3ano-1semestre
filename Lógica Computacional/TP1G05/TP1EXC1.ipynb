{
  "cells": [
    {
      "attachments": {},
      "cell_type": "markdown",
      "id": "65dd1498",
      "metadata": {
        "id": "65dd1498"
      },
      "source": [
        "# Horário Semanal de aulas\n",
        "\n",
        "Grupo 05\n",
        "\n",
        "    Eduardo André Silva Cunha \n",
        "    Gonçalo Emanuel Ferreira Magalhães A100084\n",
        "\n"
      ]
    },
    {
      "attachments": {},
      "cell_type": "markdown",
      "id": "bcc82458",
      "metadata": {
        "id": "bcc82458"
      },
      "source": [
        "# Problema \n",
        "\n",
        "\n",
        "\n",
        "Pretende-se construir o horário semanal de aulas de uma turma.\n",
        "1. Existe um conjunto de salas $S$ classificadas em “grandes” e “pequenas”.\n",
        "2. O tempo do horário está organizado em “slots” de uma hora. O total do tempo disponível é 5 horas de manhã e 5 horas às tarde.\n",
        "3. Existe um conjunto $D\\,$ de disciplinas.  Cada disciplina tem um atributo $d\\in\\{1,2\\}$ que classifica a duração de cada sessão (um ou dois “slots”) , um atributo $a\\in\\{2,3\\}$ que define o número de sessões semanais e um atributo $\\,s\\in\\{0,1\\}\\,$ que diz se a sessão necessita de uma sala grande ou não.\n",
        "4. Existe um conjunto $P$$de professores. Cada professor tem associado um conjunto  $h$ das disciplinas que está habilitado a lecionar.\n",
        "5. O horário está organizado em sessões concorrentes onde cada sessão é definido por uma disciplina desce que salas e professores verifiquem as seguintes restrições.\n",
        "    - Para cada disciplina todas as aulas decorrem na mesma sala e com o mesmo professor.\n",
        "    - O número total de horas lecionadas por cada professor está num intervalo de $\\pm 20\\%\\,$ do número médio de horas lecionadas pela totalidade dos professores.\n",
        "    - Nenhuma sala pode ser ocupada simultaneamente por mais do que uma aula e nenhum professor pode lecionar simultaneamente mais do que uma aula.\n",
        "    - Em cada disciplina, cada aula é lecionada por um professor habilitado para essa disciplina e ocorre numa sala de tamanho apropriado à disciplina.\n",
        "        \n",
        "\n",
        "\n",
        "    Use o package `ortools` para encontrar uma solução que verifique todas as restrições e maximize o número de partes de dia (manhãs ou tardes) que estão livres de qualquer aula."
      ]
    },
    {
      "cell_type": "code",
      "execution_count": 1,
      "id": "faeabc14",
      "metadata": {},
      "outputs": [
        {
          "name": "stdout",
          "output_type": "stream",
          "text": [
            "Requirement already satisfied: ortools in c:\\users\\eduar\\anaconda3\\envs\\logica\\lib\\site-packages (9.7.2996)\n",
            "Requirement already satisfied: absl-py>=0.13 in c:\\users\\eduar\\anaconda3\\envs\\logica\\lib\\site-packages (from ortools) (1.4.0)\n",
            "Requirement already satisfied: numpy>=1.13.3 in c:\\users\\eduar\\anaconda3\\envs\\logica\\lib\\site-packages (from ortools) (1.26.0)\n",
            "Requirement already satisfied: protobuf>=4.23.3 in c:\\users\\eduar\\anaconda3\\envs\\logica\\lib\\site-packages (from ortools) (4.24.3)\n"
          ]
        }
      ],
      "source": [
        "!pip install ortools"
      ]
    },
    {
      "attachments": {},
      "cell_type": "markdown",
      "id": "c2c10a35",
      "metadata": {},
      "source": [
        "### Import \n",
        "Imports usados no código:"
      ]
    },
    {
      "cell_type": "code",
      "execution_count": 2,
      "id": "b452fb83",
      "metadata": {},
      "outputs": [],
      "source": [
        "from ortools.linear_solver import pywraplp"
      ]
    },
    {
      "attachments": {},
      "cell_type": "markdown",
      "id": "6e00174b",
      "metadata": {},
      "source": [
        "# Implementação\n",
        "### Definir os valores para os inputs relativos ao problema.\n",
        "Começamos por definir o input do nosso problema. Iremos ter as variáveis $dias_da_semana$, $salas$, $periodos$, $disciplinas$ e $professores$, que representam o os dias da semana, as salas, os periodos, as disciplinas e os professores, respetivamente, assim como as variáveis implicitas no problema . \n",
        "\n",
        "Adicionalmente, teremos $2$ dicionários:\n",
        "\n",
        "1) O primeiro dicionário, prof_dict, estabelecerá a correspondência entre cada Professor e as disciplinas que leciona.\n",
        "2) O segundo dicionário, disp, estabelecerá a correspondência entre cada disciplina, o tempo de cada aula, o numero de dias por semana e se necessita de uma sala grande ou pequena.\n"
      ]
    },
    {
      "cell_type": "code",
      "execution_count": 3,
      "id": "13ad827b",
      "metadata": {},
      "outputs": [],
      "source": [
        "# dias_da_semana = [\"segunda\", \"terca\", \"quarta\", \"quinta\", \"sexta\"]\n",
        "dias_da_semana = [1, 2, 3, 4, 5]\n",
        "\n",
        "# Salas - grandes ou pequenas\n",
        "salas = [1,2,3,4,5,6]\n",
        "\n",
        "# Periodos - 1h ou 2h, max 5h manha/tarde\n",
        "#periodos = [\"8-9\",\"9-10\",\"10-11\",\"11-12\",\"12-13\",\"14-15\",\"15-16\",\"16-17\",\"17-18\",\"18-19\"]\n",
        "periodos = [1,2,3,4,5,6,7,8,9,10]\n",
        "\n",
        "# Disciplinas - duracao de 1h ou 2h, 2 ou 3 aulas semanais, e 0 ou 1 que define se e necessario uma sala grande ou nao\n",
        "#disciplinas = [\"PLC\",\"LC\",\"BD\",\"PA\",\"CC\"]\n",
        "disciplinas = [1,2,3,4,5]\n",
        "\n",
        "# Professores - cada sore tem o conjunto das disciplinas que leciona\n",
        "#professores = [\"Mario\",\"Abilio\",\"Jota\",\"Januario\",\"Victor\"]\n",
        "professores = [1,2,3,4,5]\n",
        "\n",
        "\n",
        "#[stores] : [disciplinas que leciona]\n",
        "prof_dict = {1:[1,2], 2:[3,1], 3:[4,5], 4:[5,3], 5:[2,4]}\n",
        "\n",
        "#[disciplinas] : (tempodeaula, diasporsemana, salasgrandeoupequena)\n",
        "#disp_dict = {\"PLC\":(1,3,\"grande\"), \"LC\":(2,1,\"pequena\"), \"BD\":(2,2,\"pequena\"), \"PA\":(2,2,\"pequena\"), \"CC\":(1,3,\"grande\")}\n",
        "disp_dict = {1: (1, 3, 1), 2: (2, 1, 0), 3: (2, 2, 0), 4: (2, 2, 0), 5: (1, 3, 1)}\n",
        "\n",
        "\n",
        "#[salas] : \"grande\"/\"pequena\" - 1 grande, 0 pequena\n",
        "#salas_dict = {1:\"grande\", 2:\"pequena\", 3:\"pequena\", 4:\"grande\", 5:\"grande\", 6:\"pequena\"}\n",
        "salas_dict = {1:1, 2:0, 3:0, 4:1, 5:1, 6:0}\n"
      ]
    },
    {
      "attachments": {},
      "cell_type": "markdown",
      "id": "5fb81dd3",
      "metadata": {},
      "source": [
        "### Análise do Problema\n",
        "\n",
        "Este é um problema de alocação pois temos uma relação entre compromissos e recursos. Como tal, vamos usar Programação Inteira para o modelar e resolver. Utilizando as variáveis $I$,$J$,$K$,$S$ e $P$, podemos criar $2$ matrizes de alocação com o seguinte significado:\n",
        "\n",
        "$$\n",
        "X_{i,j,k,s} == 1 \\quad \\text{se e só se} \\quad \\text{disciplina $i$ é atribuída ao período $j$ no dia da semana $k$ e a sala $s$}\n",
        "$$\n",
        "\n",
        "$$\n",
        "Y_{i, k, j, p} == 1 \\quad \\text{se e só se} \\quad \\text{disciplina $i$ no dia da semana $k$, no período $j$ e com o professor $p$}\n",
        "$$\n",
        "\n",
        "Vejamos então as *limitações* e as *obrigações* do nosso problema:\n",
        "\n",
        "**Limitações**\n",
        "\n",
        "1. Para cada disciplina todas as aulas decorrem na mesma sala e com o mesmo professor.\n",
        "2. O número total de horas lecionadas por cada professor está num intervalo de $\\pm 20\\%\\,$ do número médio de horas lecionadas pela totalidade dos professores.\n",
        "3. Nenhuma sala pode ser ocupada simultaneamente por mais do que uma aula e nenhum professor pode lecionar simultaneamente mais do que uma aula.\n",
        "4. Em cada disciplina, cada aula é lecionada por um professor habilitado para essa disciplina e ocorre numa sala de tamanho apropriado à disciplina.\n",
        "\n",
        "**Obrigações**\n",
        "\n",
        "1. O número de aulas lecionadas em cada disciplina tem de ser o mesmo que o especificado em disp_dict\n",
        "2. Apenas uma aula por periodo\n",
        "3. Uma aula pode ter 1 ou 2 periodos conforme descirto em disp_dict\n",
        "\n",
        "Na tentativa de resolver o problema usando o solver da pwralp, decidimos executar da seguinte forma."
      ]
    },
    {
      "cell_type": "markdown",
      "id": "92e9674c",
      "metadata": {},
      "source": [
        "### Inicialização das matrizes de alocação"
      ]
    },
    {
      "cell_type": "code",
      "execution_count": 4,
      "id": "7599b765",
      "metadata": {},
      "outputs": [],
      "source": [
        "solver = pywraplp.Solver.CreateSolver('SCIP')\n",
        "\n",
        "x = {}\n",
        "y = {}\n",
        "\n",
        "# Variáveis binárias x[i, j, k, s] representando se a disciplina i é atribuída ao período j no dia da semana k e a sala s\n",
        "x = {}\n",
        "for i in disciplinas:\n",
        "    for j in periodos:\n",
        "        for k in dias_da_semana:\n",
        "            for s in salas:\n",
        "                x[i, j, k, s] = solver.IntVar(0, 1, f'x_{i}_{j}_{k}_{s}')\n",
        "\n",
        "# Variáveis inteiras y[i, k, j, p] representando a disciplina i no dia da semana k, no período j e com o professor p\n",
        "y = {}\n",
        "for i in disciplinas:\n",
        "    for k in dias_da_semana:\n",
        "        for j in periodos:\n",
        "            for p in professores:\n",
        "                y[i, k, j, p] = solver.IntVar(0, 1, f'y_{i}_{k}_{j}_{p}')"
      ]
    },
    {
      "cell_type": "markdown",
      "id": "3501bd4b",
      "metadata": {},
      "source": [
        "### Restrições\n",
        "\n",
        "1. Para cada disciplina todas as aulas decorrem na mesma sala e com o mesmo professor."
      ]
    },
    {
      "cell_type": "code",
      "execution_count": 5,
      "id": "8dfc8bbf",
      "metadata": {},
      "outputs": [],
      "source": [
        "#Toda a aula na mesma sala\n",
        "for i in disciplinas:\n",
        "    for j in periodos:\n",
        "        for k in dias_da_semana:\n",
        "            solver.Add(sum(x[i, j, k, s] for s in salas) == 1)\n",
        "\n",
        "#Toda a aula com o mesmo professor\n",
        "for i in disciplinas:\n",
        "    for k in dias_da_semana:\n",
        "        for j in periodos:\n",
        "            solver.Add(sum(y[i, k, j, p] for p in professores) == 1)"
      ]
    },
    {
      "attachments": {},
      "cell_type": "markdown",
      "id": "78f23ae4",
      "metadata": {},
      "source": [
        "2. O número total de horas lecionadas por cada professor está num intervalo de $\\pm 20\\%\\,$ do número médio de horas lecionadas pela totalidade dos professores."
      ]
    },
    {
      "cell_type": "code",
      "execution_count": 6,
      "id": "d8da662a",
      "metadata": {},
      "outputs": [],
      "source": [
        "# Calculo do número médio de horas lecionadas por todos os professores\n",
        "total_hours = sum(y[i, k, j, p] for i in disciplinas for k in dias_da_semana for j in periodos for p in professores)\n",
        "average_hours = total_hours / len(professores)\n",
        "\n",
        "# Garantir que nenhum professor passa do limite medio +- 20%\n",
        "for p in professores:\n",
        "    professor_total_hours = sum(y[i, k, j, p] for i in disciplinas for k in dias_da_semana for j in periodos)\n",
        "    solver.Add(professor_total_hours >= 0.8 * average_hours)\n",
        "    solver.Add(professor_total_hours <= 1.2 * average_hours)"
      ]
    },
    {
      "cell_type": "markdown",
      "id": "4fe342d2",
      "metadata": {},
      "source": [
        "3. Nenhuma sala pode ser ocupada simultaneamente por mais do que uma aula e nenhum professor pode lecionar simultaneamente mais do que uma aula."
      ]
    },
    {
      "cell_type": "code",
      "execution_count": 7,
      "id": "5ace80b8",
      "metadata": {},
      "outputs": [],
      "source": [
        "# sala so pra uma aula por periodo:\n",
        "for k in dias_da_semana:\n",
        "    for j in periodos:\n",
        "        for s in salas:\n",
        "            solver.Add(solver.Sum(x[i, j, k, s] for i in disciplinas) <= 1)\n",
        "\n",
        "#professor so pra uma disciplina por periodo:\n",
        "for k in dias_da_semana:\n",
        "    for j in periodos:\n",
        "        for p in professores:\n",
        "            solver.Add(solver.Sum(y[i, k, j, p] for i in disciplinas) <= 1)\n"
      ]
    },
    {
      "attachments": {},
      "cell_type": "markdown",
      "id": "3204ff35",
      "metadata": {},
      "source": [
        "4. Em cada disciplina, cada aula é lecionada por um professor habilitado para essa disciplina e ocorre numa sala de tamanho apropriado à disciplina."
      ]
    },
    {
      "cell_type": "code",
      "execution_count": 8,
      "id": "da04cca6",
      "metadata": {},
      "outputs": [],
      "source": [
        "#Professor habilitado para lecionar a disciplina\n",
        "for i in disciplinas:\n",
        "    for k in dias_da_semana:\n",
        "        for j in periodos:\n",
        "            for p in professores:\n",
        "                # Se a disciplina i requer o professor p (p está habilitado para i),\n",
        "                # então a variável y[i, k, j, p] pode ser 0 ou 1. Mas caso não seja então tem de ser 0.\n",
        "                if i in prof_dict[p]:\n",
        "                    solver.Add(y[i, k, j, p] <= 1)\n",
        "                else:\n",
        "                    solver.Add(y[i, k, j, p] == 0)\n",
        "\n",
        "#Sala apropriada para a disciplina\n",
        "for i in disciplinas:\n",
        "    for k in dias_da_semana:\n",
        "        for j in periodos:\n",
        "            # Se a disciplina i requer uma sala grande (sala_dict[i] == 1),\n",
        "            # então a variável x[i, j, k, s] deve ser igual a 1 somente se a sala s for grande.\n",
        "            if disp_dict[i][2] == 1:\n",
        "                for s in salas:\n",
        "                    if salas_dict[s] == 0:\n",
        "                        solver.Add(x[i, j, k, s] == 0)\n",
        "                    # Senão pode ser maior que 0\n",
        "                    \n",
        "            # Se a disciplina i requer uma sala pequena (sala_dict[i] == 0),\n",
        "            # então a variável x[i, j, k, s] deve ser igual a 1 somente se a sala s for pequena.\n",
        "            else:\n",
        "                for s in salas:\n",
        "                    if salas_dict[s] == 1:\n",
        "                        solver.Add(x[i, j, k, s] == 0)\n",
        "                    # Senão pode ser maior que 0"
      ]
    },
    {
      "cell_type": "markdown",
      "id": "badc192f",
      "metadata": {},
      "source": [
        "### Obrigações:\n",
        "1. O número de aulas lecionadas em cada disciplina tem de ser o mesmo que o especificado em disp_dict"
      ]
    },
    {
      "cell_type": "code",
      "execution_count": 9,
      "id": "8941429b",
      "metadata": {},
      "outputs": [],
      "source": [
        "for i in disciplinas:\n",
        "    total_aulas_disciplina = disp_dict[i][1]\n",
        "    solver.Add(solver.Sum(x[i, j, k, s] for j in periodos for k in dias_da_semana for s in salas) == total_aulas_disciplina)"
      ]
    },
    {
      "cell_type": "markdown",
      "id": "39306112",
      "metadata": {},
      "source": [
        "2. Apenas uma aula por periodo"
      ]
    },
    {
      "cell_type": "code",
      "execution_count": 10,
      "id": "1109cce0",
      "metadata": {},
      "outputs": [],
      "source": [
        "for k in dias_da_semana:\n",
        "    for j in periodos:\n",
        "        solver.Add(solver.Sum(x[i, j, k, s] for i in disciplinas for s in salas) <= 1)"
      ]
    },
    {
      "cell_type": "markdown",
      "id": "eff2ae8f",
      "metadata": {},
      "source": [
        "3. Uma aula pode ter 1 ou 2 periodos conforme descirto em disp_dict"
      ]
    },
    {
      "cell_type": "code",
      "execution_count": 15,
      "id": "231e464c",
      "metadata": {},
      "outputs": [],
      "source": [
        "for i in disciplinas:\n",
        "    if disp_dict[i][0] == 2:\n",
        "        for k in dias_da_semana:\n",
        "            for j in range(1, len(periodos)): \n",
        "                for s in salas:\n",
        "                    if x[i, j, k, s] == 1:\n",
        "                        solver.Add(x[i, j+1, k, s] == 1)\n"
      ]
    },
    {
      "attachments": {},
      "cell_type": "markdown",
      "id": "5a02798d",
      "metadata": {},
      "source": [
        "### Objetivos \n",
        "O objetivo deste código para a criação de um horário, é maximizar o número de partes de dia (manhãs ou tardes) que estão livres de qualquer aula."
      ]
    },
    {
      "cell_type": "code",
      "execution_count": null,
      "id": "8f738e24",
      "metadata": {},
      "outputs": [],
      "source": [
        "manhas = [1, 2, 3, 4, 5]  # Periodos da manha\n",
        "tardes = [6, 7, 8, 9, 10] # Periodos da tarde\n",
        "\n",
        "# Variáveis binárias para representar se um período de manhã ou tarde é livre\n",
        "manha_livre = {}\n",
        "tarde_livre = {}\n",
        "\n",
        "for k in dias_da_semana:\n",
        "    manha_livre[k] = solver.IntVar(0, 1, f'manha_livre_{k}') # 1 livre, 0 ocupada\n",
        "    tarde_livre[k] = solver.IntVar(0, 1, f'tarde_livre_{k}') # 1 livre, 0 ocupada\n",
        "\n",
        "# Caso seja uma manha livre ou tarde livre então não pode haver aulas nesse periodo\n",
        "for k in dias_da_semana:\n",
        "    manha_livre_expr = solver.Sum(1 - x[i, j, k, s] for i in disciplinas for j in manhas for s in salas)\n",
        "    solver.Add(manha_livre[k] == manha_livre_expr)\n",
        "\n",
        "    tarde_livre_expr = solver.Sum(1 - x[i, j, k, s] for i in disciplinas for j in tardes for s in salas)\n",
        "    solver.Add(tarde_livre[k] == tarde_livre_expr)\n",
        "\n",
        "# Objetivo: Maximizar o número de manhãs ou tardes livres\n",
        "count_manhas_livres = solver.Sum(manha_livre[k] for k in dias_da_semana)\n",
        "count_tardes_livres = solver.Sum(tarde_livre[k] for k in dias_da_semana)\n",
        "solver.Maximize(count_manhas_livres + count_tardes_livres)"
      ]
    },
    {
      "attachments": {},
      "cell_type": "markdown",
      "id": "66145f59",
      "metadata": {},
      "source": [
        "# Print do resultado \n",
        "Impressão do resultado final"
      ]
    },
    {
      "cell_type": "code",
      "execution_count": null,
      "id": "69cb541a",
      "metadata": {},
      "outputs": [
        {
          "name": "stdout",
          "output_type": "stream",
          "text": [
            "Não foi encontrada uma solução ótima.\n"
          ]
        }
      ],
      "source": [
        "status = solver.Solve()\n",
        "\n",
        "if status == pywraplp.Solver.OPTIMAL: # Caso haja resposta ótima\n",
        "    for k in dias_da_semana:\n",
        "        for i in disciplinas:\n",
        "            for j in periodos:\n",
        "                for sala in salas:\n",
        "                    for professor in professores:\n",
        "                        # Verifica se a variável x[i, j, k, sala] é igual a 1 (aula está alocada na sala)\n",
        "                        if x[i, j, k, sala].solution_value() == 1:\n",
        "                            # Verifica se a variável y[i, k, j, professor] é igual a 1 (professor dá essa aula)\n",
        "                            if y[i, k, j, professor].solution_value() == 1:\n",
        "                                print(f'Disciplina: {i}, Professor: {professor}, Sala: {sala}, Dia: {k}, Período: {j}')\n",
        "                                \n",
        "else: # Caso não\n",
        "    print('Não foi encontrada uma solução ótima.') \n",
        "\n"
      ]
    },
    {
      "attachments": {},
      "cell_type": "markdown",
      "id": "1ae75116",
      "metadata": {},
      "source": [
        "# Breve Conclusão\n",
        "Com base nos nossos diversos testes, suspeitamos que as nossas \"funções\" obrigações e a \"função\" objetivo possam estar a contribuir para o insucesso do código. \n",
        "\n",
        "Porém, embora não tenhamos alcançado um resultado concreto, acreditamos que abordamos corretamente o tema da programação linear e acreditamos que estivemos perto da resolução do problema.\n"
      ]
    }
  ],
  "metadata": {
    "colab": {
      "provenance": []
    },
    "kernelspec": {
      "display_name": "base",
      "language": "python",
      "name": "python3"
    },
    "language_info": {
      "codemirror_mode": {
        "name": "ipython",
        "version": 3
      },
      "file_extension": ".py",
      "mimetype": "text/x-python",
      "name": "python",
      "nbconvert_exporter": "python",
      "pygments_lexer": "ipython3",
      "version": "3.10.13"
    },
    "vscode": {
      "interpreter": {
        "hash": "fcadef901af50e7e326a3e337d5c4203c49bef07d424e82f5d3a6ff2e200d5cb"
      }
    }
  },
  "nbformat": 4,
  "nbformat_minor": 5
}
