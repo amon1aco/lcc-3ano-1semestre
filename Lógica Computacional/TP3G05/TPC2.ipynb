{
 "cells": [
  {
   "attachments": {},
   "cell_type": "markdown",
   "metadata": {},
   "source": [
    "# TP3 - Algortimo estendido de Euclides\n",
    "### Exercício 2 (Prova de Correção)\n",
    "Grupo 05\n",
    "\n",
    "    Eduardo André Silva Cunha A98980\n",
    "    Gonçalo Emanuel Ferreira Magalhães A100084"
   ]
  },
  {
   "attachments": {},
   "cell_type": "markdown",
   "metadata": {},
   "source": [
    "# Problema\n",
    "Este exercício é dirigido à prova de correção do algoritmo estendido de Euclides\n",
    "\n",
    "1. Construa a asserção lógica que representa a pós-condição do algoritmo. Note que a definição da função  $\\\\gcd$  é   $\\gcd(a,b)\\;\\equiv\\; \\min \\{\\,r > 0\\,|\\,\\exists\\,s,t\\,\\centerdot\\, r = a*s+b*t\\,\\}$.\n",
    "2. Usando a metodologia do comando havoc para o ciclo, escreva o programa na linguagem dos comandos anotados (LPA). Codifique a pós-condição do algoritmo com um comando assert.\n",
    "3. Construa codificações do programa LPA através de transformadores de predicados: “weakest pre-condition” e “strongest post-condition”. \n",
    "4. Prove a correção  do programa LPA em ambas as codificações."
   ]
  },
  {
   "attachments": {},
   "cell_type": "markdown",
   "metadata": {},
   "source": [
    "#### Imports"
   ]
  },
  {
   "cell_type": "code",
   "execution_count": 1,
   "metadata": {},
   "outputs": [],
   "source": [
    "from pysmt.shortcuts import *\n",
    "from pysmt.typing import *\n",
    "#from z3 import *"
   ]
  },
  {
   "attachments": {},
   "cell_type": "markdown",
   "metadata": {},
   "source": [
    "#### Variáveis"
   ]
  },
  {
   "cell_type": "code",
   "execution_count": 2,
   "metadata": {},
   "outputs": [],
   "source": [
    "global n_global\n",
    "n_global = 10\n",
    "\n",
    "global a_global\n",
    "a_global = 48\n",
    "\n",
    "global b_global\n",
    "b_global = 18\n",
    "\n",
    "global N_global\n",
    "N_global = 50\n",
    "\n",
    "\n",
    "r = Symbol('r', INT)\n",
    "r_linha = Symbol('r_linha', INT)\n",
    "s = Symbol('s', INT)\n",
    "s_linha = Symbol('s_linha', INT)\n",
    "t = Symbol('t', INT)\n",
    "t_linha = Symbol('t_linha', INT)"
   ]
  },
  {
   "attachments": {},
   "cell_type": "markdown",
   "metadata": {},
   "source": [
    "#### Construa a asserção lógica que representa a pós-condição do algoritmo. Note que a definição da função gdc é \n",
    "- $\\gcd(a,b)\\;\\equiv\\; \\min \\{\\,r > 0\\,|\\,\\exists\\,s,t\\,\\centerdot\\, r = a*s+b*t\\,\\}$."
   ]
  },
  {
   "cell_type": "code",
   "execution_count": 3,
   "metadata": {},
   "outputs": [],
   "source": [
    "def pos_cond(output_r, output_s, output_t): # Recebe os 3 valores finais\n",
    "    with Solver(name=\"z3\") as s:            # Vamos utilizar um solver z3 para a verificação do \"min\"\n",
    "        \n",
    "        r_novo = Symbol('r_novo',INT)       # cria novas variaveis\n",
    "        s_novo = Symbol('s_novo',INT)\n",
    "        t_novo = Symbol('t_novo',INT)\n",
    "\n",
    "        eq = Equals(r_novo, Int(a_global) * s_novo + Int(b_global) * t_novo) # lei de Bezout\n",
    "        #verifica se r_novom é igual a a*s_novo + int(b_global)...\n",
    "        \n",
    "        # Restrições\n",
    "        s.add_assertion(r_novo > 0)         # r_novo tem de ser um resultado positivo\n",
    "        s.add_assertion(r_novo < output_r)  # r_novo tem de ser um resultado menor que o r final\n",
    "        s.add_assertion(eq)                 # os valores tem de respeitar sempre bezout\n",
    "\n",
    "        if s.solve():       # se resolver é porque encontrou um r_novo menor que o r, que satisfaz bezout\n",
    "            print(\"Resposta do modelo:\", s.get_model())\n",
    "            return False # então retorna falso\n",
    "\n",
    "    # Caso não encontre outra resposta, retorna se os valores dados respeitam bezout\n",
    "    return Equals(output_r,(Int(a_global) * output_s + Int(b_global) * output_t))\n"
   ]
  },
  {
   "attachments": {},
   "cell_type": "markdown",
   "metadata": {},
   "source": [
    "#### Usando a metodologia do comando havoc para o ciclo, escreva o programa na linguagem dos comandos anotados (LPA). Codifique a pós-condição do algoritmo com um comando assert. \n",
    "#### - Função dada nas aulas para auxiliar nos métodos de prova"
   ]
  },
  {
   "cell_type": "code",
   "execution_count": 7,
   "metadata": {},
   "outputs": [],
   "source": [
    "def prove(f):\n",
    "    with Solver(name=\"z3\") as s:\n",
    "        #busca de um contraexemplo é mais facil de provar que é vdd\n",
    "        s.add_assertion(Not(f))# se nao encontrar uma negação de f \n",
    "        #então f é valido e é aprovado\n",
    "        if s.solve():\n",
    "            #se encontrar, não aprova\n",
    "            print(\"Failed to prove.\")\n",
    "        else:\n",
    "            print(\"Proved.\")"
   ]
  },
  {
   "cell_type": "code",
   "execution_count": 11,
   "metadata": {},
   "outputs": [
    {
     "name": "stdout",
     "output_type": "stream",
     "text": [
      "Proved.\n"
     ]
    }
   ],
   "source": [
    "# ax1, garante os valores iniciais das variaveis\n",
    "ax1 = And(Equals(r, Int(a_global)), Equals(r_linha, Int(b_global)), Equals(s, Int(1)), Equals(s_linha, Int(0)), Equals(t, Int(0)), Equals(t_linha, Int(1)))\n",
    "\n",
    "# ax2, garante o passo do ciclo while\n",
    "#modela a condição para quando ax2 não é igual a zero\n",
    "ax2 = And(\n",
    "    Implies(NotEquals(r_linha, Int(0)), And(\n",
    "        Equals(r_linha, r - (r_linha / r) * r_linha),\n",
    "        Equals(s_linha, s - (r_linha / r) * s_linha),\n",
    "        Equals(t_linha, t - (r_linha / r) * t_linha),\n",
    "        Equals(r, r_linha),\n",
    "        Equals(s, s_linha),\n",
    "        Equals(t, t_linha)\n",
    "    ))\n",
    ")\n",
    "\n",
    "#print(pos_cond(r,s,t))\n",
    "#assert(pos_cond(r,s,t)) --> erro\n",
    "\n",
    "axioms = And(ax1,ax2)\n",
    "\n",
    "#prove(Implies(axioms,pos_cond(r,s,t))) --> erro\n",
    "prove(Implies(axioms,And(Equals(r, Int(6)), Equals(s, Int(-1)), Equals(t, Int(3)))))\n"
   ]
  },
  {
   "attachments": {},
   "cell_type": "markdown",
   "metadata": {},
   "source": [
    "#### Construa codificações do programa LPA através de transformadores de predicados: “weakest pre-condition” e “strongest post-condition”. \n"
   ]
  },
  {
   "cell_type": "code",
   "execution_count": 5,
   "metadata": {},
   "outputs": [
    {
     "name": "stdout",
     "output_type": "stream",
     "text": [
      "Proved.\n"
     ]
    }
   ],
   "source": [
    "# Novos simbolos necessários\n",
    "a = Symbol('a', INT)\n",
    "b = Symbol('b', INT)\n",
    "N = Symbol('N', INT)\n",
    "\n",
    "# atribuição dos valores globais às novas variaveis\n",
    "pre_atrib = And(Equals(a,Int(a_global)),Equals(b,Int(b_global)),Equals(N,Int(N_global)))\n",
    "\n",
    "# assume\n",
    "pre = And(a > 0, b > 0, a < N, b < N)\n",
    "\n",
    "# pos cond\n",
    "pos = And(Equals(r_linha, Int(0)), Equals(r,(Int(a_global) * s + Int(b_global) * t)))\n",
    "\n",
    "# invariante, lei de bezout\n",
    "inv = Equals(r, a_global * s + b_global * t)\n",
    "\n",
    "# Init, atribuição dos valores iniciais\n",
    "ini = substitute(inv, {r: Int(a_global), r_linha: Int(b_global), s: Int(1), s_linha: Int(0), t: Int(0), t_linha: Int(1)})\n",
    "\n",
    "# pres, atribuição dos novos valores dentro do ciclo while\n",
    "pres = Implies(NotEquals(r_linha, Int(0)),\n",
    "               substitute(inv,                   \n",
    "                           {r_linha: r - (r_linha / r) * r_linha,\n",
    "                            s_linha: s- (r_linha / r) * s_linha,\n",
    "                            t_linha: t - (r_linha / r) * t_linha,\n",
    "                            r: r_linha, \n",
    "                            s: s_linha, \n",
    "                            t: t_linha})\n",
    "               )\n",
    "# util, garante o invariante durante o ciclo\n",
    "util = Implies(r_linha >= 0, inv)\n",
    "\n",
    "\n",
    "td = And(axioms,pre_atrib,pre,pos,inv,ini,pres,util)\n",
    "# Prova do teorema estendido de Euclides\n",
    "prove(Implies(td,And(Equals(r, Int(6)), Equals(s, Int(-8)), Equals(t, Int(3)))))\n"
   ]
  },
  {
   "attachments": {},
   "cell_type": "markdown",
   "metadata": {},
   "source": [
    "#### Prove a correção  do programa LPA em ambas as codificações."
   ]
  },
  {
   "cell_type": "code",
   "execution_count": 6,
   "metadata": {},
   "outputs": [
    {
     "name": "stdout",
     "output_type": "stream",
     "text": [
      "Proved.\n",
      "Proved.\n"
     ]
    }
   ],
   "source": [
    "# “weakest pre-condition”  \n",
    "WPC = Implies(pre, And(ini, ForAll([r,s,t],And(pres,util)))) \n",
    "prove(Implies(td,WPC))\n",
    "\n",
    "# “strongest post-condition”\n",
    "SPC = And(pre, Implies(ini, ForAll([r,s,t],And(pres,util)))) \n",
    "prove(Implies(td,SPC))"
   ]
  }
 ],
 "metadata": {
  "kernelspec": {
   "display_name": "logica",
   "language": "python",
   "name": "python3"
  },
  "language_info": {
   "codemirror_mode": {
    "name": "ipython",
    "version": 3
   },
   "file_extension": ".py",
   "mimetype": "text/x-python",
   "name": "python",
   "nbconvert_exporter": "python",
   "pygments_lexer": "ipython3",
   "version": "3.10.13"
  },
  "orig_nbformat": 4,
  "vscode": {
   "interpreter": {
    "hash": "cac0512e641aae48a9b37df321ebc88608de380759a6f28428ec284488cbd97b"
   }
  }
 },
 "nbformat": 4,
 "nbformat_minor": 2
}
