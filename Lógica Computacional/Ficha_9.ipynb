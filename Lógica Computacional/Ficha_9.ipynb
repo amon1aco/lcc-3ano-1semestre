{
 "cells": [
  {
   "cell_type": "markdown",
   "id": "2be19442",
   "metadata": {},
   "source": [
    "# FOTS - Uma implementação alternativa\n",
    "\n",
    "Nas últimas aulas estudamos várias técnicas para verificação de propriedades de sistemas dinâmicos (caracterizados por um estado que evolui ao longo do tempo), sendo o sistema dinâmico modelado por um *First-Order Transition System (FOTS)*. Mais concretamente, estudamos\n",
    "- a técnica de *Bounded Model Checking*, para verificar se uma propriedade é válida num FOTS considerando apenas um número limitado de estados de execução.\n",
    "- a técnica de *K-indução*, para verificar propriedades para qualquer execução não limitada do FOTS;\n",
    "- o caso específico dos *Safe FOTS* (que incluem a propriedade de segurança na formulação do sistema, agregando um predicado que determina os estados de erro) e um algoritmo de \"model checking\" que recorre às noções de interpolante e invariante para tentar provar a inacessibilidade dos estados de erro.\n",
    "\n",
    "\n",
    "A implementação das várias técnicas foi sempre sustentada em funções de ordem superior que recebem como parâmetros a função que faz a \"clonagem\" do estado, e as funções que geram os predicados que caracterizam os estados iniciais, a relação de transição e os estados de erro.\n",
    "\n",
    "O mecanismo de classes do Python pode agilizar estes procedimentos. Nesta aula iremos fazer uma implementação alternativa com base nisso. "
   ]
  },
  {
   "cell_type": "markdown",
   "id": "0622fcd8",
   "metadata": {},
   "source": [
    "###  Exercício 1\n",
    "\n",
    "Defina de forma genérica a classe FOTS, incluindo um método que realiza k-indução. Teste a sua definição com o exemplo da ficha 4."
   ]
  },
  {
   "cell_type": "code",
   "execution_count": null,
   "id": "95206299",
   "metadata": {},
   "outputs": [],
   "source": [
    "from pysmt.shortcuts import *\n",
    "from pysmt.typing import INT\n",
    "\n",
    "class FOTS:\n",
    "\n",
    "    def __init__(self, label, variables, init, trans):\n",
    "        # completar\n"
   ]
  },
  {
   "cell_type": "code",
   "execution_count": null,
   "id": "632660b4",
   "metadata": {},
   "outputs": [],
   "source": [
    "def init(state):\n",
    "    A = Equals(state['pc'], Int(0))\n",
    "    B = GE(state['x'], Int(3))\n",
    "    return And(A, B)\n",
    "\n",
    "def trans(curr,prox):\n",
    "    t01 = And(Equals(curr['pc'], Int(0)), GT(curr['x'], Int(0)), Equals(prox['pc'], Int(1)), Equals(prox['x'], curr['x']))\n",
    "    t02 = And(Equals(curr['pc'], Int(0)), LE(curr['x'], Int(0)), Equals(prox['pc'], Int(2)), Equals(prox['x'], curr['x'])) \n",
    "    t10 = And(Equals(curr['pc'], Int(1)), Equals(prox['pc'], Int(0)), Equals(prox['x'] + Int(1), curr['x']))\n",
    "    t22 = And(Equals(curr['pc'], Int(2)), Equals(prox['pc'], Int(2)), Equals(prox['x'], curr['x']))\n",
    "    return Or(t01, t02, t10, t22)\n",
    "\n",
    "label = \"X\"\n",
    "variables = [(\"x\", INT), (\"pc\", INT)]\n",
    "fots = FOTS(label, variables, init, trans)\n",
    "\n",
    "def nonnegative(state):\n",
    "    return GE(state['x'], Int(0))\n",
    "\n",
    "fots.k_induction(nonnegative, 2)"
   ]
  }
 ],
 "metadata": {
  "kernelspec": {
   "display_name": "Python 3 (ipykernel)",
   "language": "python",
   "name": "python3"
  },
  "language_info": {
   "codemirror_mode": {
    "name": "ipython",
    "version": 3
   },
   "file_extension": ".py",
   "mimetype": "text/x-python",
   "name": "python",
   "nbconvert_exporter": "python",
   "pygments_lexer": "ipython3",
   "version": "3.10.12"
  }
 },
 "nbformat": 4,
 "nbformat_minor": 5
}
